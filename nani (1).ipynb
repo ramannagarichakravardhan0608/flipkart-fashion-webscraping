{
 "cells": [
  {
   "cell_type": "code",
   "execution_count": 213,
   "id": "48ebb15f-5863-44af-b259-8faf7cb81a2b",
   "metadata": {},
   "outputs": [
    {
     "name": "stdout",
     "output_type": "stream",
     "text": [
      "Collecting seaborn\n",
      "  Downloading seaborn-0.13.2-py3-none-any.whl.metadata (5.4 kB)\n",
      "Requirement already satisfied: numpy!=1.24.0,>=1.20 in /opt/miniconda3/lib/python3.13/site-packages (from seaborn) (2.3.3)\n",
      "Requirement already satisfied: pandas>=1.2 in /opt/miniconda3/lib/python3.13/site-packages (from seaborn) (2.3.2)\n",
      "Requirement already satisfied: matplotlib!=3.6.1,>=3.4 in /opt/miniconda3/lib/python3.13/site-packages (from seaborn) (3.10.6)\n",
      "Requirement already satisfied: contourpy>=1.0.1 in /opt/miniconda3/lib/python3.13/site-packages (from matplotlib!=3.6.1,>=3.4->seaborn) (1.3.3)\n",
      "Requirement already satisfied: cycler>=0.10 in /opt/miniconda3/lib/python3.13/site-packages (from matplotlib!=3.6.1,>=3.4->seaborn) (0.12.1)\n",
      "Requirement already satisfied: fonttools>=4.22.0 in /opt/miniconda3/lib/python3.13/site-packages (from matplotlib!=3.6.1,>=3.4->seaborn) (4.60.1)\n",
      "Requirement already satisfied: kiwisolver>=1.3.1 in /opt/miniconda3/lib/python3.13/site-packages (from matplotlib!=3.6.1,>=3.4->seaborn) (1.4.9)\n",
      "Requirement already satisfied: packaging>=20.0 in /opt/miniconda3/lib/python3.13/site-packages (from matplotlib!=3.6.1,>=3.4->seaborn) (25.0)\n",
      "Requirement already satisfied: pillow>=8 in /opt/miniconda3/lib/python3.13/site-packages (from matplotlib!=3.6.1,>=3.4->seaborn) (11.3.0)\n",
      "Requirement already satisfied: pyparsing>=2.3.1 in /opt/miniconda3/lib/python3.13/site-packages (from matplotlib!=3.6.1,>=3.4->seaborn) (3.2.5)\n",
      "Requirement already satisfied: python-dateutil>=2.7 in /opt/miniconda3/lib/python3.13/site-packages (from matplotlib!=3.6.1,>=3.4->seaborn) (2.9.0.post0)\n",
      "Requirement already satisfied: pytz>=2020.1 in /opt/miniconda3/lib/python3.13/site-packages (from pandas>=1.2->seaborn) (2025.2)\n",
      "Requirement already satisfied: tzdata>=2022.7 in /opt/miniconda3/lib/python3.13/site-packages (from pandas>=1.2->seaborn) (2025.2)\n",
      "Requirement already satisfied: six>=1.5 in /opt/miniconda3/lib/python3.13/site-packages (from python-dateutil>=2.7->matplotlib!=3.6.1,>=3.4->seaborn) (1.17.0)\n",
      "Downloading seaborn-0.13.2-py3-none-any.whl (294 kB)\n",
      "Installing collected packages: seaborn\n",
      "Successfully installed seaborn-0.13.2\n",
      "Note: you may need to restart the kernel to use updated packages.\n"
     ]
    }
   ],
   "source": [
    "pip install seaborn"
   ]
  },
  {
   "cell_type": "code",
   "execution_count": 211,
   "id": "a2622c3f-ffbf-4839-8cd9-359a2548ac63",
   "metadata": {},
   "outputs": [
    {
     "name": "stdout",
     "output_type": "stream",
     "text": [
      "Collecting matplotlib\n",
      "  Downloading matplotlib-3.10.6-cp313-cp313-macosx_11_0_arm64.whl.metadata (11 kB)\n",
      "Collecting contourpy>=1.0.1 (from matplotlib)\n",
      "  Downloading contourpy-1.3.3-cp313-cp313-macosx_11_0_arm64.whl.metadata (5.5 kB)\n",
      "Collecting cycler>=0.10 (from matplotlib)\n",
      "  Downloading cycler-0.12.1-py3-none-any.whl.metadata (3.8 kB)\n",
      "Collecting fonttools>=4.22.0 (from matplotlib)\n",
      "  Downloading fonttools-4.60.1-cp313-cp313-macosx_10_13_universal2.whl.metadata (112 kB)\n",
      "Collecting kiwisolver>=1.3.1 (from matplotlib)\n",
      "  Downloading kiwisolver-1.4.9-cp313-cp313-macosx_11_0_arm64.whl.metadata (6.3 kB)\n",
      "Requirement already satisfied: numpy>=1.23 in /opt/miniconda3/lib/python3.13/site-packages (from matplotlib) (2.3.3)\n",
      "Requirement already satisfied: packaging>=20.0 in /opt/miniconda3/lib/python3.13/site-packages (from matplotlib) (25.0)\n",
      "Collecting pillow>=8 (from matplotlib)\n",
      "  Downloading pillow-11.3.0-cp313-cp313-macosx_11_0_arm64.whl.metadata (9.0 kB)\n",
      "Collecting pyparsing>=2.3.1 (from matplotlib)\n",
      "  Downloading pyparsing-3.2.5-py3-none-any.whl.metadata (5.0 kB)\n",
      "Requirement already satisfied: python-dateutil>=2.7 in /opt/miniconda3/lib/python3.13/site-packages (from matplotlib) (2.9.0.post0)\n",
      "Requirement already satisfied: six>=1.5 in /opt/miniconda3/lib/python3.13/site-packages (from python-dateutil>=2.7->matplotlib) (1.17.0)\n",
      "Downloading matplotlib-3.10.6-cp313-cp313-macosx_11_0_arm64.whl (8.1 MB)\n",
      "\u001b[2K   \u001b[38;2;114;156;31m━━━━━━━━━━━━━━━━━━━━━━━━━━━━━━━━━━━━━━━━\u001b[0m \u001b[32m8.1/8.1 MB\u001b[0m \u001b[31m7.5 MB/s\u001b[0m eta \u001b[36m0:00:00\u001b[0m MB/s\u001b[0m eta \u001b[36m0:00:01\u001b[0m:01\u001b[0m\n",
      "\u001b[?25hDownloading contourpy-1.3.3-cp313-cp313-macosx_11_0_arm64.whl (274 kB)\n",
      "Downloading cycler-0.12.1-py3-none-any.whl (8.3 kB)\n",
      "Downloading fonttools-4.60.1-cp313-cp313-macosx_10_13_universal2.whl (2.8 MB)\n",
      "\u001b[2K   \u001b[38;2;114;156;31m━━━━━━━━━━━━━━━━━━━━━━━━━━━━━━━━━━━━━━━━\u001b[0m \u001b[32m2.8/2.8 MB\u001b[0m \u001b[31m11.9 MB/s\u001b[0m eta \u001b[36m0:00:00\u001b[0m MB/s\u001b[0m eta \u001b[36m0:00:01\u001b[0m\n",
      "\u001b[?25hDownloading kiwisolver-1.4.9-cp313-cp313-macosx_11_0_arm64.whl (64 kB)\n",
      "Downloading pillow-11.3.0-cp313-cp313-macosx_11_0_arm64.whl (4.7 MB)\n",
      "\u001b[2K   \u001b[38;2;114;156;31m━━━━━━━━━━━━━━━━━━━━━━━━━━━━━━━━━━━━━━━━\u001b[0m \u001b[32m4.7/4.7 MB\u001b[0m \u001b[31m10.0 MB/s\u001b[0m eta \u001b[36m0:00:00\u001b[0m31m10.3 MB/s\u001b[0m eta \u001b[36m0:00:01\u001b[0m\n",
      "\u001b[?25hDownloading pyparsing-3.2.5-py3-none-any.whl (113 kB)\n",
      "Installing collected packages: pyparsing, pillow, kiwisolver, fonttools, cycler, contourpy, matplotlib\n",
      "\u001b[2K   \u001b[38;2;114;156;31m━━━━━━━━━━━━━━━━━━━━━━━━━━━━━━━━━━━━━━━━\u001b[0m \u001b[32m7/7\u001b[0m [matplotlib]\u001b[0m \u001b[32m6/7\u001b[0m [matplotlib]ourpy]\n",
      "\u001b[1A\u001b[2KSuccessfully installed contourpy-1.3.3 cycler-0.12.1 fonttools-4.60.1 kiwisolver-1.4.9 matplotlib-3.10.6 pillow-11.3.0 pyparsing-3.2.5\n",
      "Note: you may need to restart the kernel to use updated packages.\n"
     ]
    }
   ],
   "source": [
    "pip install matplotlib"
   ]
  },
  {
   "cell_type": "code",
   "execution_count": 215,
   "id": "72a7d7ac-3574-482c-bc9b-277f09f0a983",
   "metadata": {},
   "outputs": [],
   "source": [
    "import requests\n",
    "from bs4 import BeautifulSoup\n",
    "import re\n",
    "import matplotlib.pyplot as plt\n",
    "import seaborn as sns"
   ]
  },
  {
   "cell_type": "code",
   "execution_count": 3,
   "id": "fc7d2236-ea13-425a-8ec6-9c8f508dffd5",
   "metadata": {},
   "outputs": [],
   "source": [
    "url = 'https://www.flipkart.com/search?q=shirts+men&sid=clo%2Cash%2Caxc%2Cmmk%2Ckp7&as=on&as-show=on&otracker=AS_QueryStore_OrganicAutoSuggest_1_4_na_na_na&otracker1=AS_QueryStore_OrganicAutoSuggest_1_4_na_na_na&as-pos=1&as-type=RECENT&suggestionId=shirts+men%7CCasual+Shirts&requestId=1ee1b492-068a-4587-8b93-2a9301f3d728&as-searchtext=shir'\n",
    "response = requests.get(url)"
   ]
  },
  {
   "cell_type": "code",
   "execution_count": 4,
   "id": "1c4b2986-b281-4baa-a614-c092892f4a9f",
   "metadata": {},
   "outputs": [
    {
     "data": {
      "text/plain": [
       "<Response [200]>"
      ]
     },
     "execution_count": 4,
     "metadata": {},
     "output_type": "execute_result"
    }
   ],
   "source": [
    "response"
   ]
  },
  {
   "cell_type": "code",
   "execution_count": 5,
   "id": "4f2954b4-91d2-49e8-9eeb-df6c19e739af",
   "metadata": {},
   "outputs": [],
   "source": [
    "soup = BeautifulSoup(response.text)"
   ]
  },
  {
   "cell_type": "code",
   "execution_count": 6,
   "id": "4562d5f5-974a-49ac-9d7f-6a1fab8c8ad7",
   "metadata": {},
   "outputs": [
    {
     "data": {
      "text/plain": [
       "bs4.BeautifulSoup"
      ]
     },
     "execution_count": 6,
     "metadata": {},
     "output_type": "execute_result"
    }
   ],
   "source": [
    "type(soup)"
   ]
  },
  {
   "cell_type": "code",
   "execution_count": 12,
   "id": "105ad93d-081a-4906-badc-871fe15e5755",
   "metadata": {},
   "outputs": [
    {
     "data": {
      "text/plain": [
       "'DEEMOON'"
      ]
     },
     "execution_count": 12,
     "metadata": {},
     "output_type": "execute_result"
    }
   ],
   "source": [
    "soup.find_all('div',class_=\"syl9yP\")[0].text"
   ]
  },
  {
   "cell_type": "code",
   "execution_count": 13,
   "id": "fac0ac98-9428-42a0-8c9d-84957da667cf",
   "metadata": {},
   "outputs": [],
   "source": [
    "p = soup.find_all('div',class_=\"syl9yP\")\n",
    "brands = []\n",
    "for i in p:\n",
    "    brands.append(i.text)\n",
    "    "
   ]
  },
  {
   "cell_type": "code",
   "execution_count": 14,
   "id": "bc06ac36-5838-4743-b4fa-722d32fbbcde",
   "metadata": {
    "scrolled": true
   },
   "outputs": [
    {
     "data": {
      "text/plain": [
       "['DEEMOON',\n",
       " 'sti',\n",
       " 'VeBNoR',\n",
       " 'VeBNoR',\n",
       " 'Vellical',\n",
       " 'ZARTHA',\n",
       " 'Dennis Lingo',\n",
       " 'VeBNoR',\n",
       " 'VeBNoR',\n",
       " 'VeBNoR',\n",
       " 'Raymond',\n",
       " 'Qlonz Store',\n",
       " 'METRONAUT',\n",
       " 'METRONAUT',\n",
       " 'METRONAUT',\n",
       " 'VeBNoR',\n",
       " 'DIMMY',\n",
       " 'threadntrends',\n",
       " 'Dennis Lingo',\n",
       " 'VeBNoR',\n",
       " 'HEMADHAV',\n",
       " 'Vellical',\n",
       " 'The Indian Garage Co.',\n",
       " 'FUBAR',\n",
       " 'VeBNoR',\n",
       " 'FUBAR',\n",
       " 'Vellical',\n",
       " 'sti',\n",
       " 'Voroxy',\n",
       " 'The Indian Garage Co.',\n",
       " 'Vellical',\n",
       " 'Allen Cooper',\n",
       " 'The Indian Garage Co.',\n",
       " 'CAMPUS SUTRA',\n",
       " 'METRONAUT',\n",
       " 'The Indian Garage Co.',\n",
       " 'NIVICK',\n",
       " 'DHADUK',\n",
       " 'VeBNoR',\n",
       " 'The Indian Garage Co.']"
      ]
     },
     "execution_count": 14,
     "metadata": {},
     "output_type": "execute_result"
    }
   ],
   "source": [
    "brands"
   ]
  },
  {
   "cell_type": "code",
   "execution_count": 15,
   "id": "3f5ed813-0a0e-4202-9f1c-e90417e77afe",
   "metadata": {},
   "outputs": [
    {
     "data": {
      "text/plain": [
       "40"
      ]
     },
     "execution_count": 15,
     "metadata": {},
     "output_type": "execute_result"
    }
   ],
   "source": [
    "len(brands)"
   ]
  },
  {
   "cell_type": "code",
   "execution_count": 22,
   "id": "1e380117-72d1-47b4-8c36-9508f622fb63",
   "metadata": {},
   "outputs": [
    {
     "data": {
      "text/plain": [
       "['Regular', 'Fit']"
      ]
     },
     "execution_count": 22,
     "metadata": {},
     "output_type": "execute_result"
    }
   ],
   "source": [
    "soup.find_all('a',class_=\"WKTcLC\")[0].text.split()[1:3]"
   ]
  },
  {
   "cell_type": "code",
   "execution_count": 88,
   "id": "2838f0b9-7fc1-4484-9090-c3099966575d",
   "metadata": {},
   "outputs": [],
   "source": [
    "p = soup.find_all('a', class_=\"WKTcLC\")\n",
    "style = []\n",
    "\n",
    "for i in p:\n",
    "    joined_words = \" \".join(i.text.split()[1:3])\n",
    "    style.append(joined_words)\n",
    "\n",
    "expected_length = 45\n",
    "while len(style) < expected_length:\n",
    "    style.append(np.nan)\n"
   ]
  },
  {
   "cell_type": "code",
   "execution_count": 89,
   "id": "601dfa1e-8de6-4139-b74c-d834bb07f114",
   "metadata": {
    "scrolled": true
   },
   "outputs": [
    {
     "data": {
      "text/plain": [
       "['Regular Fit',\n",
       " 'Regular Fit',\n",
       " 'Regular Fit',\n",
       " 'Regular Fit',\n",
       " 'Slim Fit',\n",
       " 'Regular Fit',\n",
       " 'Slim Fit',\n",
       " 'Regular Fit',\n",
       " 'Regular Fit',\n",
       " 'Regular Fit',\n",
       " 'Slim Fit',\n",
       " 'Regular Fit',\n",
       " 'Regular Fit',\n",
       " 'Regular Fit',\n",
       " 'Regular Fit',\n",
       " 'Regular Fit',\n",
       " 'Regular Fit',\n",
       " 'Regular Fit',\n",
       " 'Slim Fit',\n",
       " 'Regular Fit',\n",
       " 'Regular Fit',\n",
       " 'Slim Fit',\n",
       " 'Slim Fit',\n",
       " 'Slim Fit',\n",
       " 'Regular Fit',\n",
       " 'Slim Fit',\n",
       " 'Slim Fit',\n",
       " 'Regular Fit',\n",
       " 'Regular Fit',\n",
       " 'Regular Fit',\n",
       " 'Slim Fit',\n",
       " 'Slim Fit',\n",
       " 'Slim Fit',\n",
       " 'Regular Fit',\n",
       " 'Regular Fit',\n",
       " 'Slim Fit',\n",
       " 'Slim Fit',\n",
       " 'Regular Fit',\n",
       " 'Regular Fit',\n",
       " 'Slim Fit',\n",
       " nan,\n",
       " nan,\n",
       " nan,\n",
       " nan,\n",
       " nan]"
      ]
     },
     "execution_count": 89,
     "metadata": {},
     "output_type": "execute_result"
    }
   ],
   "source": [
    "style"
   ]
  },
  {
   "cell_type": "code",
   "execution_count": 31,
   "id": "375b1f7e-8d92-4118-8f4a-40425e1a26d7",
   "metadata": {},
   "outputs": [
    {
     "data": {
      "text/plain": [
       "40"
      ]
     },
     "execution_count": 31,
     "metadata": {},
     "output_type": "execute_result"
    }
   ],
   "source": [
    "len(style)"
   ]
  },
  {
   "cell_type": "code",
   "execution_count": 38,
   "id": "f26c3a4a-83f2-4774-a94f-ddf71585c3f2",
   "metadata": {},
   "outputs": [
    {
     "data": {
      "text/plain": [
       "['Button', 'Down', 'Collar']"
      ]
     },
     "execution_count": 38,
     "metadata": {},
     "output_type": "execute_result"
    }
   ],
   "source": [
    "soup.find_all('a',class_=\"WKTcLC\")[0].text.split()[4:7]"
   ]
  },
  {
   "cell_type": "code",
   "execution_count": 86,
   "id": "78497ae2-65ab-417d-9812-85423d395a01",
   "metadata": {},
   "outputs": [],
   "source": [
    "p = soup.find_all('a', class_=\"WKTcLC\")\n",
    "collar_type = []\n",
    "\n",
    "for i in p:\n",
    "    # take 5th to 7th word and join into one string\n",
    "    joined_words = \" \".join(i.text.split()[4:7])\n",
    "    collar_type.append(joined_words)\n",
    "\n",
    "# Fill remaining with NaN to make length 45\n",
    "expected_length = 45\n",
    "while len(collar_type) < expected_length:\n",
    "    collar_type.append(np.nan)\n"
   ]
  },
  {
   "cell_type": "code",
   "execution_count": 87,
   "id": "22710e75-99de-4764-a1f5-b23a7cdc8e84",
   "metadata": {
    "scrolled": true
   },
   "outputs": [
    {
     "data": {
      "text/plain": [
       "45"
      ]
     },
     "execution_count": 87,
     "metadata": {},
     "output_type": "execute_result"
    }
   ],
   "source": [
    "len(collar_type)"
   ]
  },
  {
   "cell_type": "code",
   "execution_count": 69,
   "id": "6f19fbea-df05-4c22-bd53-8021d45b55fe",
   "metadata": {},
   "outputs": [
    {
     "data": {
      "text/plain": [
       "'₹360'"
      ]
     },
     "execution_count": 69,
     "metadata": {},
     "output_type": "execute_result"
    }
   ],
   "source": [
    "soup.find_all('div',class_=\"Nx9bqj\")[0].text"
   ]
  },
  {
   "cell_type": "code",
   "execution_count": 70,
   "id": "79ac369b-afb6-462a-b416-480e896b8dc3",
   "metadata": {},
   "outputs": [],
   "source": [
    "p = soup.find_all('div',class_=\"Nx9bqj\")\n",
    "discount_price = []\n",
    "for i in p:\n",
    "    discount_price.append(i.text)"
   ]
  },
  {
   "cell_type": "code",
   "execution_count": 71,
   "id": "83a86e86-9222-4545-b839-0495cb2c0ca2",
   "metadata": {},
   "outputs": [
    {
     "data": {
      "text/plain": [
       "45"
      ]
     },
     "execution_count": 71,
     "metadata": {},
     "output_type": "execute_result"
    }
   ],
   "source": [
    "len(discount_price)"
   ]
  },
  {
   "cell_type": "code",
   "execution_count": 72,
   "id": "0077bb64-c24b-47ab-bdcb-006a1a53f888",
   "metadata": {},
   "outputs": [
    {
     "data": {
      "text/plain": [
       "'₹1,999'"
      ]
     },
     "execution_count": 72,
     "metadata": {},
     "output_type": "execute_result"
    }
   ],
   "source": [
    "soup.find_all('div',class_=\"yRaY8j\")[0].text"
   ]
  },
  {
   "cell_type": "code",
   "execution_count": 80,
   "id": "e9a3e83f-e08d-48ab-bc64-66e53d3528e5",
   "metadata": {},
   "outputs": [],
   "source": [
    "import numpy as np  # for NaN\n",
    "\n",
    "p = soup.find_all('div', class_=\"yRaY8j\")\n",
    "original_price = [i.text for i in p]  # list of scraped prices\n",
    "\n",
    "expected_length = 45\n",
    "while len(original_price) < expected_length:\n",
    "    original_price.append(np.nan)  # fill remaining with NaN\n",
    "\n"
   ]
  },
  {
   "cell_type": "code",
   "execution_count": 81,
   "id": "3fbda08a-60dc-46b3-b005-c888f03fbd5a",
   "metadata": {},
   "outputs": [
    {
     "data": {
      "text/plain": [
       "45"
      ]
     },
     "execution_count": 81,
     "metadata": {},
     "output_type": "execute_result"
    }
   ],
   "source": [
    "len(original_price)"
   ]
  },
  {
   "cell_type": "code",
   "execution_count": 82,
   "id": "a2a60c1c-005b-4350-b6c3-50ba88331c51",
   "metadata": {},
   "outputs": [
    {
     "data": {
      "text/plain": [
       "'81% off'"
      ]
     },
     "execution_count": 82,
     "metadata": {},
     "output_type": "execute_result"
    }
   ],
   "source": [
    "soup.find_all('div',class_=\"UkUFwK\")[0].text"
   ]
  },
  {
   "cell_type": "code",
   "execution_count": 83,
   "id": "bd1d2612-ab76-4b39-8a0b-a1ba8ebaf569",
   "metadata": {},
   "outputs": [],
   "source": [
    "p = soup.find_all('div',class_=\"UkUFwK\")\n",
    "discount_percentage = []\n",
    "for i in p:\n",
    "    discount_percentage .append(i.text)"
   ]
  },
  {
   "cell_type": "code",
   "execution_count": 84,
   "id": "d12e1361-32e3-4233-91fa-9f014c898704",
   "metadata": {},
   "outputs": [
    {
     "data": {
      "text/plain": [
       "45"
      ]
     },
     "execution_count": 84,
     "metadata": {},
     "output_type": "execute_result"
    }
   ],
   "source": [
    "len(discount_percentage)"
   ]
  },
  {
   "cell_type": "code",
   "execution_count": 100,
   "id": "9acf4420-6a4c-4df7-b3f6-16d0660f2f9a",
   "metadata": {},
   "outputs": [
    {
     "data": {
      "text/plain": [
       "45"
      ]
     },
     "execution_count": 100,
     "metadata": {},
     "output_type": "execute_result"
    }
   ],
   "source": [
    "len(brands)"
   ]
  },
  {
   "cell_type": "code",
   "execution_count": 101,
   "id": "f978c5d8-d301-4e34-a31a-6634cd42e7a5",
   "metadata": {},
   "outputs": [
    {
     "data": {
      "text/plain": [
       "45"
      ]
     },
     "execution_count": 101,
     "metadata": {},
     "output_type": "execute_result"
    }
   ],
   "source": [
    "len(style)"
   ]
  },
  {
   "cell_type": "code",
   "execution_count": 102,
   "id": "eaebadb6-ca38-45f0-8aae-c1d795b0fa2a",
   "metadata": {},
   "outputs": [
    {
     "data": {
      "text/plain": [
       "45"
      ]
     },
     "execution_count": 102,
     "metadata": {},
     "output_type": "execute_result"
    }
   ],
   "source": [
    "len(collar_type)"
   ]
  },
  {
   "cell_type": "code",
   "execution_count": 103,
   "id": "ae984cc4-96eb-44ba-9848-905e599f8a21",
   "metadata": {},
   "outputs": [
    {
     "data": {
      "text/plain": [
       "45"
      ]
     },
     "execution_count": 103,
     "metadata": {},
     "output_type": "execute_result"
    }
   ],
   "source": [
    "len(discount_price)"
   ]
  },
  {
   "cell_type": "code",
   "execution_count": 104,
   "id": "511adcc5-cbf9-4c13-aa70-1966afb30341",
   "metadata": {},
   "outputs": [
    {
     "data": {
      "text/plain": [
       "45"
      ]
     },
     "execution_count": 104,
     "metadata": {},
     "output_type": "execute_result"
    }
   ],
   "source": [
    "len(original_price)"
   ]
  },
  {
   "cell_type": "code",
   "execution_count": 108,
   "id": "7a44d463-b6ba-4717-991d-7e55ecf55d9a",
   "metadata": {},
   "outputs": [
    {
     "name": "stdout",
     "output_type": "stream",
     "text": [
      "https://www.flipkart.com/search?q=shirts+men&sid=clo%2Cash%2Caxc%2Cmmk%2Ckp7&as=on&as-show=on&otracker=AS_QueryStore_OrganicAutoSuggest_1_4_na_na_na&otracker1=AS_QueryStore_OrganicAutoSuggest_1_4_na_na_na&as-pos=1&as-type=RECENT&suggestionId=shirts+men%7CCasual+Shirts&requestId=1ee1b492-068a-4587-8b93-2a9301f3d728&as-searchtext=shir2\n",
      "https://www.flipkart.com/search?q=shirts+men&sid=clo%2Cash%2Caxc%2Cmmk%2Ckp7&as=on&as-show=on&otracker=AS_QueryStore_OrganicAutoSuggest_1_4_na_na_na&otracker1=AS_QueryStore_OrganicAutoSuggest_1_4_na_na_na&as-pos=1&as-type=RECENT&suggestionId=shirts+men%7CCasual+Shirts&requestId=1ee1b492-068a-4587-8b93-2a9301f3d728&as-searchtext=shir3\n",
      "https://www.flipkart.com/search?q=shirts+men&sid=clo%2Cash%2Caxc%2Cmmk%2Ckp7&as=on&as-show=on&otracker=AS_QueryStore_OrganicAutoSuggest_1_4_na_na_na&otracker1=AS_QueryStore_OrganicAutoSuggest_1_4_na_na_na&as-pos=1&as-type=RECENT&suggestionId=shirts+men%7CCasual+Shirts&requestId=1ee1b492-068a-4587-8b93-2a9301f3d728&as-searchtext=shir4\n",
      "https://www.flipkart.com/search?q=shirts+men&sid=clo%2Cash%2Caxc%2Cmmk%2Ckp7&as=on&as-show=on&otracker=AS_QueryStore_OrganicAutoSuggest_1_4_na_na_na&otracker1=AS_QueryStore_OrganicAutoSuggest_1_4_na_na_na&as-pos=1&as-type=RECENT&suggestionId=shirts+men%7CCasual+Shirts&requestId=1ee1b492-068a-4587-8b93-2a9301f3d728&as-searchtext=shir5\n",
      "https://www.flipkart.com/search?q=shirts+men&sid=clo%2Cash%2Caxc%2Cmmk%2Ckp7&as=on&as-show=on&otracker=AS_QueryStore_OrganicAutoSuggest_1_4_na_na_na&otracker1=AS_QueryStore_OrganicAutoSuggest_1_4_na_na_na&as-pos=1&as-type=RECENT&suggestionId=shirts+men%7CCasual+Shirts&requestId=1ee1b492-068a-4587-8b93-2a9301f3d728&as-searchtext=shir6\n",
      "https://www.flipkart.com/search?q=shirts+men&sid=clo%2Cash%2Caxc%2Cmmk%2Ckp7&as=on&as-show=on&otracker=AS_QueryStore_OrganicAutoSuggest_1_4_na_na_na&otracker1=AS_QueryStore_OrganicAutoSuggest_1_4_na_na_na&as-pos=1&as-type=RECENT&suggestionId=shirts+men%7CCasual+Shirts&requestId=1ee1b492-068a-4587-8b93-2a9301f3d728&as-searchtext=shir7\n",
      "https://www.flipkart.com/search?q=shirts+men&sid=clo%2Cash%2Caxc%2Cmmk%2Ckp7&as=on&as-show=on&otracker=AS_QueryStore_OrganicAutoSuggest_1_4_na_na_na&otracker1=AS_QueryStore_OrganicAutoSuggest_1_4_na_na_na&as-pos=1&as-type=RECENT&suggestionId=shirts+men%7CCasual+Shirts&requestId=1ee1b492-068a-4587-8b93-2a9301f3d728&as-searchtext=shir8\n",
      "https://www.flipkart.com/search?q=shirts+men&sid=clo%2Cash%2Caxc%2Cmmk%2Ckp7&as=on&as-show=on&otracker=AS_QueryStore_OrganicAutoSuggest_1_4_na_na_na&otracker1=AS_QueryStore_OrganicAutoSuggest_1_4_na_na_na&as-pos=1&as-type=RECENT&suggestionId=shirts+men%7CCasual+Shirts&requestId=1ee1b492-068a-4587-8b93-2a9301f3d728&as-searchtext=shir9\n",
      "https://www.flipkart.com/search?q=shirts+men&sid=clo%2Cash%2Caxc%2Cmmk%2Ckp7&as=on&as-show=on&otracker=AS_QueryStore_OrganicAutoSuggest_1_4_na_na_na&otracker1=AS_QueryStore_OrganicAutoSuggest_1_4_na_na_na&as-pos=1&as-type=RECENT&suggestionId=shirts+men%7CCasual+Shirts&requestId=1ee1b492-068a-4587-8b93-2a9301f3d728&as-searchtext=shir10\n"
     ]
    }
   ],
   "source": [
    "brands = []\n",
    "style = []\n",
    "collar_type = []\n",
    "discount_price = []\n",
    "original_price = []\n",
    "discount_percentage = []\n",
    "\n",
    "\n",
    "\n",
    "\n",
    "for i in range(2,11):\n",
    "    print('https://www.flipkart.com/search?q=shirts+men&sid=clo%2Cash%2Caxc%2Cmmk%2Ckp7&as=on&as-show=on&otracker=AS_QueryStore_OrganicAutoSuggest_1_4_na_na_na&otracker1=AS_QueryStore_OrganicAutoSuggest_1_4_na_na_na&as-pos=1&as-type=RECENT&suggestionId=shirts+men%7CCasual+Shirts&requestId=1ee1b492-068a-4587-8b93-2a9301f3d728&as-searchtext=shir'+str(i))\n",
    "    url = 'https://www.flipkart.com/search?q=shirts+men&sid=clo%2Cash%2Caxc%2Cmmk%2Ckp7&as=on&as-show=on&otracker=AS_QueryStore_OrganicAutoSuggest_1_4_na_na_na&otracker1=AS_QueryStore_OrganicAutoSuggest_1_4_na_na_na&as-pos=1&as-type=RECENT&suggestionId=shirts+men%7CCasual+Shirts&requestId=1ee1b492-068a-4587-8b93-2a9301f3d728&as-searchtext=shir'+str(i)\n",
    "    response = requests.get(url)\n",
    "    soup = BeautifulSoup(response.text)\n",
    "        \n",
    "    p = soup.find_all('div',class_=\"syl9yP\")\n",
    "    for i in p:\n",
    "        brands.append(i.text)\n",
    "    \n",
    "    \n",
    "    p = soup.find_all('a', class_=\"WKTcLC\")\n",
    "    \n",
    "    for i in p:\n",
    "        joined_words = \" \".join(i.text.split()[1:3])\n",
    "        style.append(joined_words)\n",
    "    \n",
    "    expected_length = 45\n",
    "    while len(style) < expected_length:\n",
    "        style.append(np.nan)\n",
    "    \n",
    "    p = soup.find_all('a', class_=\"WKTcLC\")\n",
    "    for i in p:\n",
    "        joined_words = \" \".join(i.text.split()[4:7])\n",
    "        collar_type.append(joined_words)\n",
    "    \n",
    "    expected_length = 45\n",
    "    while len(collar_type) < expected_length:\n",
    "        collar_type.append(np.nan)\n",
    "    \n",
    "    p = soup.find_all('div',class_=\"Nx9bqj\")\n",
    "    for i in p:\n",
    "        discount_price.append(i.text)\n",
    "    \n",
    "    p = soup.find_all('div', class_=\"yRaY8j\")\n",
    "    original_price = [i.text for i in p]  \n",
    "    \n",
    "    expected_length = 45\n",
    "    while len(original_price) < expected_length:\n",
    "        original_price.append(np.nan)  \n",
    "    \n",
    "    p = soup.find_all('div',class_=\"UkUFwK\")\n",
    "    for i in p:\n",
    "        discount_percentage .append(i.text)   "
   ]
  },
  {
   "cell_type": "code",
   "execution_count": 109,
   "id": "e13cd167-50f2-4565-850a-dc410ea9ae0b",
   "metadata": {},
   "outputs": [
    {
     "data": {
      "text/plain": [
       "45"
      ]
     },
     "execution_count": 109,
     "metadata": {},
     "output_type": "execute_result"
    }
   ],
   "source": [
    "len(original_price)"
   ]
  },
  {
   "cell_type": "code",
   "execution_count": 142,
   "id": "ce6533e6-5422-4c0a-b61d-adc8083a4b35",
   "metadata": {},
   "outputs": [],
   "source": [
    "\n",
    "import requests\n",
    "from bs4 import BeautifulSoup\n",
    "import numpy as np\n",
    "import pandas as pd\n",
    "\n",
    "# Lists to store data\n",
    "brands = []\n",
    "style = []\n",
    "collar_type = []\n",
    "discount_price = []\n",
    "original_price = []\n",
    "discount_percentage = []\n",
    "\n",
    "# Loop through pages\n",
    "for i in range(2, 31):\n",
    "    url = f'https://www.flipkart.com/search?q=shirts+men&as-searchtext=shir{i}'\n",
    "    response = requests.get(url)\n",
    "    soup = BeautifulSoup(response.text, 'html.parser')\n",
    "    \n",
    "    # Brands\n",
    "    for b in soup.find_all('div', class_=\"syl9yP\"):\n",
    "        brands.append(b.text)\n",
    "    \n",
    "    # Style & Collar type\n",
    "    for a in soup.find_all('a', class_=\"WKTcLC\"):\n",
    "        words = a.text.split()\n",
    "        style.append(\" \".join(words[1:3]) if len(words) > 2 else np.nan)\n",
    "        collar_type.append(\" \".join(words[4:7]) if len(words) > 6 else np.nan)\n",
    "    \n",
    "    # Discount price\n",
    "    for dp in soup.find_all('div', class_=\"Nx9bqj\"):\n",
    "        discount_price.append(dp.text)\n",
    "    \n",
    "    # Original price\n",
    "    for op in soup.find_all('div', class_=\"yRaY8j\"):\n",
    "        original_price.append(op.text)\n",
    "    \n",
    "    # Discount percentage\n",
    "    for dper in soup.find_all('div', class_=\"UkUFwK\"):\n",
    "        discount_percentage.append(dper.text)\n",
    "\n",
    "# Find the maximum length among all lists\n",
    "max_lendf[gth = max(len(brands), len(style), len(collar_type), len(discount_price), len(original_price), len(discount_percentage))\n",
    "\n",
    "# Pad all lists with NaN to make lengths equal\n",
    "for lst in [brands, style, collar_type, discount_price, original_price, discount_percentage]:\n",
    "    while len(lst) < max_length:\n",
    "        lst.append(np.nan)\n",
    "\n",
    "# Create DataFrame\n",
    "df = pd.DataFrame({\n",
    "    'Brand': brands,\n",
    "    'Style': style,\n",
    "    'Collar Type': collar_type,\n",
    "    'Discount Price': discount_price,\n",
    "    'Original Price': original_price,\n",
    "    'Discount Percentage': discount_percentage\n",
    "})\n",
    "\n"
   ]
  },
  {
   "cell_type": "code",
   "execution_count": 143,
   "id": "3217dfee-669f-41ac-ba1e-5b8205c68b47",
   "metadata": {},
   "outputs": [
    {
     "data": {
      "text/plain": [
       "1260"
      ]
     },
     "execution_count": 143,
     "metadata": {},
     "output_type": "execute_result"
    }
   ],
   "source": [
    "len(original_price)"
   ]
  },
  {
   "cell_type": "code",
   "execution_count": 144,
   "id": "e0598020-051d-440f-8b73-6a24cbdde152",
   "metadata": {},
   "outputs": [
    {
     "data": {
      "text/plain": [
       "1260"
      ]
     },
     "execution_count": 144,
     "metadata": {},
     "output_type": "execute_result"
    }
   ],
   "source": [
    "len(brands)"
   ]
  },
  {
   "cell_type": "code",
   "execution_count": 145,
   "id": "cb549037-112c-4fa0-9664-1e25ebdfd96b",
   "metadata": {},
   "outputs": [
    {
     "data": {
      "text/plain": [
       "1260"
      ]
     },
     "execution_count": 145,
     "metadata": {},
     "output_type": "execute_result"
    }
   ],
   "source": [
    "len(style)"
   ]
  },
  {
   "cell_type": "code",
   "execution_count": 146,
   "id": "095a11a6-be82-4370-b1a4-3494dc9d4739",
   "metadata": {},
   "outputs": [
    {
     "data": {
      "text/plain": [
       "1260"
      ]
     },
     "execution_count": 146,
     "metadata": {},
     "output_type": "execute_result"
    }
   ],
   "source": [
    "len(collar_type)"
   ]
  },
  {
   "cell_type": "code",
   "execution_count": 147,
   "id": "53797fb9-799e-465e-8104-42a1eb44cbf3",
   "metadata": {},
   "outputs": [
    {
     "data": {
      "text/plain": [
       "1260"
      ]
     },
     "execution_count": 147,
     "metadata": {},
     "output_type": "execute_result"
    }
   ],
   "source": [
    "len(discount_price)"
   ]
  },
  {
   "cell_type": "code",
   "execution_count": 148,
   "id": "da4eeb7c-10ee-4a43-9a48-46ebffce83ae",
   "metadata": {},
   "outputs": [
    {
     "data": {
      "text/plain": [
       "1260"
      ]
     },
     "execution_count": 148,
     "metadata": {},
     "output_type": "execute_result"
    }
   ],
   "source": [
    "len(discount_percentage)"
   ]
  },
  {
   "cell_type": "code",
   "execution_count": 149,
   "id": "f815f609-e333-4d8a-8967-6f3f2b903adb",
   "metadata": {},
   "outputs": [
    {
     "data": {
      "text/html": [
       "<div>\n",
       "<style scoped>\n",
       "    .dataframe tbody tr th:only-of-type {\n",
       "        vertical-align: middle;\n",
       "    }\n",
       "\n",
       "    .dataframe tbody tr th {\n",
       "        vertical-align: top;\n",
       "    }\n",
       "\n",
       "    .dataframe thead th {\n",
       "        text-align: right;\n",
       "    }\n",
       "</style>\n",
       "<table border=\"1\" class=\"dataframe\">\n",
       "  <thead>\n",
       "    <tr style=\"text-align: right;\">\n",
       "      <th></th>\n",
       "      <th>Brand</th>\n",
       "      <th>Style</th>\n",
       "      <th>Collar Type</th>\n",
       "      <th>Discount Price</th>\n",
       "      <th>Original Price</th>\n",
       "      <th>Discount Percentage</th>\n",
       "    </tr>\n",
       "  </thead>\n",
       "  <tbody>\n",
       "    <tr>\n",
       "      <th>0</th>\n",
       "      <td>VTEXX</td>\n",
       "      <td>Regular Fit</td>\n",
       "      <td>Spread Collar Formal</td>\n",
       "      <td>₹268</td>\n",
       "      <td>₹1,299</td>\n",
       "      <td>79% off</td>\n",
       "    </tr>\n",
       "    <tr>\n",
       "      <th>1</th>\n",
       "      <td>RED TAPE</td>\n",
       "      <td>Regular Fit</td>\n",
       "      <td>Button Down Collar</td>\n",
       "      <td>₹754</td>\n",
       "      <td>₹4,299</td>\n",
       "      <td>82% off</td>\n",
       "    </tr>\n",
       "    <tr>\n",
       "      <th>2</th>\n",
       "      <td>VeBNoR</td>\n",
       "      <td>Regular Fit</td>\n",
       "      <td>Spread Collar Casual</td>\n",
       "      <td>₹253</td>\n",
       "      <td>₹999</td>\n",
       "      <td>74% off</td>\n",
       "    </tr>\n",
       "    <tr>\n",
       "      <th>3</th>\n",
       "      <td>VeBNoR</td>\n",
       "      <td>Regular Fit</td>\n",
       "      <td>Button Down Collar</td>\n",
       "      <td>₹265</td>\n",
       "      <td>₹999</td>\n",
       "      <td>73% off</td>\n",
       "    </tr>\n",
       "    <tr>\n",
       "      <th>4</th>\n",
       "      <td>VTEXX</td>\n",
       "      <td>Regular Fit</td>\n",
       "      <td>Spread Collar Formal</td>\n",
       "      <td>₹268</td>\n",
       "      <td>₹1,299</td>\n",
       "      <td>79% off</td>\n",
       "    </tr>\n",
       "    <tr>\n",
       "      <th>...</th>\n",
       "      <td>...</td>\n",
       "      <td>...</td>\n",
       "      <td>...</td>\n",
       "      <td>...</td>\n",
       "      <td>...</td>\n",
       "      <td>...</td>\n",
       "    </tr>\n",
       "    <tr>\n",
       "      <th>1255</th>\n",
       "      <td>NaN</td>\n",
       "      <td>NaN</td>\n",
       "      <td>NaN</td>\n",
       "      <td>₹250</td>\n",
       "      <td>NaN</td>\n",
       "      <td>82% off</td>\n",
       "    </tr>\n",
       "    <tr>\n",
       "      <th>1256</th>\n",
       "      <td>NaN</td>\n",
       "      <td>NaN</td>\n",
       "      <td>NaN</td>\n",
       "      <td>₹268</td>\n",
       "      <td>NaN</td>\n",
       "      <td>73% off</td>\n",
       "    </tr>\n",
       "    <tr>\n",
       "      <th>1257</th>\n",
       "      <td>NaN</td>\n",
       "      <td>NaN</td>\n",
       "      <td>NaN</td>\n",
       "      <td>₹469</td>\n",
       "      <td>NaN</td>\n",
       "      <td>74% off</td>\n",
       "    </tr>\n",
       "    <tr>\n",
       "      <th>1258</th>\n",
       "      <td>NaN</td>\n",
       "      <td>NaN</td>\n",
       "      <td>NaN</td>\n",
       "      <td>₹267</td>\n",
       "      <td>NaN</td>\n",
       "      <td>82% off</td>\n",
       "    </tr>\n",
       "    <tr>\n",
       "      <th>1259</th>\n",
       "      <td>NaN</td>\n",
       "      <td>NaN</td>\n",
       "      <td>NaN</td>\n",
       "      <td>₹320</td>\n",
       "      <td>NaN</td>\n",
       "      <td>79% off</td>\n",
       "    </tr>\n",
       "  </tbody>\n",
       "</table>\n",
       "<p>1260 rows × 6 columns</p>\n",
       "</div>"
      ],
      "text/plain": [
       "         Brand        Style           Collar Type Discount Price  \\\n",
       "0        VTEXX  Regular Fit  Spread Collar Formal           ₹268   \n",
       "1     RED TAPE  Regular Fit    Button Down Collar           ₹754   \n",
       "2       VeBNoR  Regular Fit  Spread Collar Casual           ₹253   \n",
       "3       VeBNoR  Regular Fit    Button Down Collar           ₹265   \n",
       "4        VTEXX  Regular Fit  Spread Collar Formal           ₹268   \n",
       "...        ...          ...                   ...            ...   \n",
       "1255       NaN          NaN                   NaN           ₹250   \n",
       "1256       NaN          NaN                   NaN           ₹268   \n",
       "1257       NaN          NaN                   NaN           ₹469   \n",
       "1258       NaN          NaN                   NaN           ₹267   \n",
       "1259       NaN          NaN                   NaN           ₹320   \n",
       "\n",
       "     Original Price Discount Percentage  \n",
       "0            ₹1,299             79% off  \n",
       "1            ₹4,299             82% off  \n",
       "2              ₹999             74% off  \n",
       "3              ₹999             73% off  \n",
       "4            ₹1,299             79% off  \n",
       "...             ...                 ...  \n",
       "1255            NaN             82% off  \n",
       "1256            NaN             73% off  \n",
       "1257            NaN             74% off  \n",
       "1258            NaN             82% off  \n",
       "1259            NaN             79% off  \n",
       "\n",
       "[1260 rows x 6 columns]"
      ]
     },
     "execution_count": 149,
     "metadata": {},
     "output_type": "execute_result"
    }
   ],
   "source": [
    "df"
   ]
  },
  {
   "cell_type": "code",
   "execution_count": 150,
   "id": "7e64d28e-9613-4422-ac9d-4e7b8d8cdab4",
   "metadata": {},
   "outputs": [
    {
     "name": "stdout",
     "output_type": "stream",
     "text": [
      "<class 'pandas.core.frame.DataFrame'>\n",
      "RangeIndex: 1260 entries, 0 to 1259\n",
      "Data columns (total 6 columns):\n",
      " #   Column               Non-Null Count  Dtype \n",
      "---  ------               --------------  ----- \n",
      " 0   Brand                1120 non-null   object\n",
      " 1   Style                1120 non-null   object\n",
      " 2   Collar Type          1058 non-null   object\n",
      " 3   Discount Price       1260 non-null   object\n",
      " 4   Original Price       1120 non-null   object\n",
      " 5   Discount Percentage  1260 non-null   object\n",
      "dtypes: object(6)\n",
      "memory usage: 59.2+ KB\n"
     ]
    }
   ],
   "source": [
    "df.info()"
   ]
  },
  {
   "cell_type": "code",
   "execution_count": 151,
   "id": "73a23370-a336-46f2-95d5-b778a173ce78",
   "metadata": {},
   "outputs": [
    {
     "data": {
      "text/html": [
       "<div>\n",
       "<style scoped>\n",
       "    .dataframe tbody tr th:only-of-type {\n",
       "        vertical-align: middle;\n",
       "    }\n",
       "\n",
       "    .dataframe tbody tr th {\n",
       "        vertical-align: top;\n",
       "    }\n",
       "\n",
       "    .dataframe thead th {\n",
       "        text-align: right;\n",
       "    }\n",
       "</style>\n",
       "<table border=\"1\" class=\"dataframe\">\n",
       "  <thead>\n",
       "    <tr style=\"text-align: right;\">\n",
       "      <th></th>\n",
       "      <th>Brand</th>\n",
       "      <th>Style</th>\n",
       "      <th>Collar Type</th>\n",
       "      <th>Discount Price</th>\n",
       "      <th>Original Price</th>\n",
       "      <th>Discount Percentage</th>\n",
       "    </tr>\n",
       "  </thead>\n",
       "  <tbody>\n",
       "    <tr>\n",
       "      <th>4</th>\n",
       "      <td>VTEXX</td>\n",
       "      <td>Regular Fit</td>\n",
       "      <td>Spread Collar Formal</td>\n",
       "      <td>₹268</td>\n",
       "      <td>₹1,299</td>\n",
       "      <td>79% off</td>\n",
       "    </tr>\n",
       "    <tr>\n",
       "      <th>6</th>\n",
       "      <td>VeBNoR</td>\n",
       "      <td>Regular Fit</td>\n",
       "      <td>Button Down Collar</td>\n",
       "      <td>₹265</td>\n",
       "      <td>₹999</td>\n",
       "      <td>73% off</td>\n",
       "    </tr>\n",
       "    <tr>\n",
       "      <th>10</th>\n",
       "      <td>VTEXX</td>\n",
       "      <td>Regular Fit</td>\n",
       "      <td>Spread Collar Formal</td>\n",
       "      <td>₹268</td>\n",
       "      <td>₹1,299</td>\n",
       "      <td>79% off</td>\n",
       "    </tr>\n",
       "    <tr>\n",
       "      <th>14</th>\n",
       "      <td>VeBNoR</td>\n",
       "      <td>Regular Fit</td>\n",
       "      <td>Spread Collar Casual</td>\n",
       "      <td>₹265</td>\n",
       "      <td>₹999</td>\n",
       "      <td>73% off</td>\n",
       "    </tr>\n",
       "    <tr>\n",
       "      <th>18</th>\n",
       "      <td>VeBNoR</td>\n",
       "      <td>Regular Fit</td>\n",
       "      <td>Spread Collar Casual</td>\n",
       "      <td>₹265</td>\n",
       "      <td>₹999</td>\n",
       "      <td>73% off</td>\n",
       "    </tr>\n",
       "    <tr>\n",
       "      <th>...</th>\n",
       "      <td>...</td>\n",
       "      <td>...</td>\n",
       "      <td>...</td>\n",
       "      <td>...</td>\n",
       "      <td>...</td>\n",
       "      <td>...</td>\n",
       "    </tr>\n",
       "    <tr>\n",
       "      <th>1255</th>\n",
       "      <td>NaN</td>\n",
       "      <td>NaN</td>\n",
       "      <td>NaN</td>\n",
       "      <td>₹250</td>\n",
       "      <td>NaN</td>\n",
       "      <td>82% off</td>\n",
       "    </tr>\n",
       "    <tr>\n",
       "      <th>1256</th>\n",
       "      <td>NaN</td>\n",
       "      <td>NaN</td>\n",
       "      <td>NaN</td>\n",
       "      <td>₹268</td>\n",
       "      <td>NaN</td>\n",
       "      <td>73% off</td>\n",
       "    </tr>\n",
       "    <tr>\n",
       "      <th>1257</th>\n",
       "      <td>NaN</td>\n",
       "      <td>NaN</td>\n",
       "      <td>NaN</td>\n",
       "      <td>₹469</td>\n",
       "      <td>NaN</td>\n",
       "      <td>74% off</td>\n",
       "    </tr>\n",
       "    <tr>\n",
       "      <th>1258</th>\n",
       "      <td>NaN</td>\n",
       "      <td>NaN</td>\n",
       "      <td>NaN</td>\n",
       "      <td>₹267</td>\n",
       "      <td>NaN</td>\n",
       "      <td>82% off</td>\n",
       "    </tr>\n",
       "    <tr>\n",
       "      <th>1259</th>\n",
       "      <td>NaN</td>\n",
       "      <td>NaN</td>\n",
       "      <td>NaN</td>\n",
       "      <td>₹320</td>\n",
       "      <td>NaN</td>\n",
       "      <td>79% off</td>\n",
       "    </tr>\n",
       "  </tbody>\n",
       "</table>\n",
       "<p>811 rows × 6 columns</p>\n",
       "</div>"
      ],
      "text/plain": [
       "       Brand        Style           Collar Type Discount Price Original Price  \\\n",
       "4      VTEXX  Regular Fit  Spread Collar Formal           ₹268         ₹1,299   \n",
       "6     VeBNoR  Regular Fit    Button Down Collar           ₹265           ₹999   \n",
       "10     VTEXX  Regular Fit  Spread Collar Formal           ₹268         ₹1,299   \n",
       "14    VeBNoR  Regular Fit  Spread Collar Casual           ₹265           ₹999   \n",
       "18    VeBNoR  Regular Fit  Spread Collar Casual           ₹265           ₹999   \n",
       "...      ...          ...                   ...            ...            ...   \n",
       "1255     NaN          NaN                   NaN           ₹250            NaN   \n",
       "1256     NaN          NaN                   NaN           ₹268            NaN   \n",
       "1257     NaN          NaN                   NaN           ₹469            NaN   \n",
       "1258     NaN          NaN                   NaN           ₹267            NaN   \n",
       "1259     NaN          NaN                   NaN           ₹320            NaN   \n",
       "\n",
       "     Discount Percentage  \n",
       "4                79% off  \n",
       "6                73% off  \n",
       "10               79% off  \n",
       "14               73% off  \n",
       "18               73% off  \n",
       "...                  ...  \n",
       "1255             82% off  \n",
       "1256             73% off  \n",
       "1257             74% off  \n",
       "1258             82% off  \n",
       "1259             79% off  \n",
       "\n",
       "[811 rows x 6 columns]"
      ]
     },
     "execution_count": 151,
     "metadata": {},
     "output_type": "execute_result"
    }
   ],
   "source": [
    "df[df.duplicated]"
   ]
  },
  {
   "cell_type": "code",
   "execution_count": 152,
   "id": "cdac1bcf-3f87-4186-ac4d-102afcf07bde",
   "metadata": {},
   "outputs": [
    {
     "name": "stdout",
     "output_type": "stream",
     "text": [
      "      Brand        Style           Collar Type Discount Price Original Price  \\\n",
      "0     VTEXX  Regular Fit  Spread Collar Formal           ₹268         ₹1,299   \n",
      "1  RED TAPE  Regular Fit    Button Down Collar           ₹754         ₹4,299   \n",
      "2    VeBNoR  Regular Fit  Spread Collar Casual           ₹253           ₹999   \n",
      "3    VeBNoR  Regular Fit    Button Down Collar           ₹265           ₹999   \n",
      "4     Surhi  Regular Fit  Spread Collar Casual           ₹225         ₹1,999   \n",
      "\n",
      "  Discount Percentage  \n",
      "0             79% off  \n",
      "1             82% off  \n",
      "2             74% off  \n",
      "3             73% off  \n",
      "4             88% off  \n"
     ]
    }
   ],
   "source": [
    "# Remove duplicate rows\n",
    "df = df.drop_duplicates()\n",
    "\n",
    "# Reset index (optional, makes it clean)\n",
    "df = df.reset_index(drop=True)\n",
    "\n",
    "print(df.head())\n"
   ]
  },
  {
   "cell_type": "code",
   "execution_count": 153,
   "id": "bb9bfe1e-2ce6-43b2-8326-221a0bb72de7",
   "metadata": {},
   "outputs": [
    {
     "data": {
      "text/html": [
       "<div>\n",
       "<style scoped>\n",
       "    .dataframe tbody tr th:only-of-type {\n",
       "        vertical-align: middle;\n",
       "    }\n",
       "\n",
       "    .dataframe tbody tr th {\n",
       "        vertical-align: top;\n",
       "    }\n",
       "\n",
       "    .dataframe thead th {\n",
       "        text-align: right;\n",
       "    }\n",
       "</style>\n",
       "<table border=\"1\" class=\"dataframe\">\n",
       "  <thead>\n",
       "    <tr style=\"text-align: right;\">\n",
       "      <th></th>\n",
       "      <th>Brand</th>\n",
       "      <th>Style</th>\n",
       "      <th>Collar Type</th>\n",
       "      <th>Discount Price</th>\n",
       "      <th>Original Price</th>\n",
       "      <th>Discount Percentage</th>\n",
       "    </tr>\n",
       "  </thead>\n",
       "  <tbody>\n",
       "    <tr>\n",
       "      <th>0</th>\n",
       "      <td>VTEXX</td>\n",
       "      <td>Regular Fit</td>\n",
       "      <td>Spread Collar Formal</td>\n",
       "      <td>₹268</td>\n",
       "      <td>₹1,299</td>\n",
       "      <td>79% off</td>\n",
       "    </tr>\n",
       "    <tr>\n",
       "      <th>1</th>\n",
       "      <td>RED TAPE</td>\n",
       "      <td>Regular Fit</td>\n",
       "      <td>Button Down Collar</td>\n",
       "      <td>₹754</td>\n",
       "      <td>₹4,299</td>\n",
       "      <td>82% off</td>\n",
       "    </tr>\n",
       "    <tr>\n",
       "      <th>2</th>\n",
       "      <td>VeBNoR</td>\n",
       "      <td>Regular Fit</td>\n",
       "      <td>Spread Collar Casual</td>\n",
       "      <td>₹253</td>\n",
       "      <td>₹999</td>\n",
       "      <td>74% off</td>\n",
       "    </tr>\n",
       "    <tr>\n",
       "      <th>3</th>\n",
       "      <td>VeBNoR</td>\n",
       "      <td>Regular Fit</td>\n",
       "      <td>Button Down Collar</td>\n",
       "      <td>₹265</td>\n",
       "      <td>₹999</td>\n",
       "      <td>73% off</td>\n",
       "    </tr>\n",
       "    <tr>\n",
       "      <th>4</th>\n",
       "      <td>Surhi</td>\n",
       "      <td>Regular Fit</td>\n",
       "      <td>Spread Collar Casual</td>\n",
       "      <td>₹225</td>\n",
       "      <td>₹1,999</td>\n",
       "      <td>88% off</td>\n",
       "    </tr>\n",
       "    <tr>\n",
       "      <th>...</th>\n",
       "      <td>...</td>\n",
       "      <td>...</td>\n",
       "      <td>...</td>\n",
       "      <td>...</td>\n",
       "      <td>...</td>\n",
       "      <td>...</td>\n",
       "    </tr>\n",
       "    <tr>\n",
       "      <th>444</th>\n",
       "      <td>NaN</td>\n",
       "      <td>NaN</td>\n",
       "      <td>NaN</td>\n",
       "      <td>₹881</td>\n",
       "      <td>NaN</td>\n",
       "      <td>57% off</td>\n",
       "    </tr>\n",
       "    <tr>\n",
       "      <th>445</th>\n",
       "      <td>NaN</td>\n",
       "      <td>NaN</td>\n",
       "      <td>NaN</td>\n",
       "      <td>₹429</td>\n",
       "      <td>NaN</td>\n",
       "      <td>78% off</td>\n",
       "    </tr>\n",
       "    <tr>\n",
       "      <th>446</th>\n",
       "      <td>NaN</td>\n",
       "      <td>NaN</td>\n",
       "      <td>NaN</td>\n",
       "      <td>₹224</td>\n",
       "      <td>NaN</td>\n",
       "      <td>82% off</td>\n",
       "    </tr>\n",
       "    <tr>\n",
       "      <th>447</th>\n",
       "      <td>NaN</td>\n",
       "      <td>NaN</td>\n",
       "      <td>NaN</td>\n",
       "      <td>₹873</td>\n",
       "      <td>NaN</td>\n",
       "      <td>65% off</td>\n",
       "    </tr>\n",
       "    <tr>\n",
       "      <th>448</th>\n",
       "      <td>NaN</td>\n",
       "      <td>NaN</td>\n",
       "      <td>NaN</td>\n",
       "      <td>₹874</td>\n",
       "      <td>NaN</td>\n",
       "      <td>65% off</td>\n",
       "    </tr>\n",
       "  </tbody>\n",
       "</table>\n",
       "<p>449 rows × 6 columns</p>\n",
       "</div>"
      ],
      "text/plain": [
       "        Brand        Style           Collar Type Discount Price  \\\n",
       "0       VTEXX  Regular Fit  Spread Collar Formal           ₹268   \n",
       "1    RED TAPE  Regular Fit    Button Down Collar           ₹754   \n",
       "2      VeBNoR  Regular Fit  Spread Collar Casual           ₹253   \n",
       "3      VeBNoR  Regular Fit    Button Down Collar           ₹265   \n",
       "4       Surhi  Regular Fit  Spread Collar Casual           ₹225   \n",
       "..        ...          ...                   ...            ...   \n",
       "444       NaN          NaN                   NaN           ₹881   \n",
       "445       NaN          NaN                   NaN           ₹429   \n",
       "446       NaN          NaN                   NaN           ₹224   \n",
       "447       NaN          NaN                   NaN           ₹873   \n",
       "448       NaN          NaN                   NaN           ₹874   \n",
       "\n",
       "    Original Price Discount Percentage  \n",
       "0           ₹1,299             79% off  \n",
       "1           ₹4,299             82% off  \n",
       "2             ₹999             74% off  \n",
       "3             ₹999             73% off  \n",
       "4           ₹1,999             88% off  \n",
       "..             ...                 ...  \n",
       "444            NaN             57% off  \n",
       "445            NaN             78% off  \n",
       "446            NaN             82% off  \n",
       "447            NaN             65% off  \n",
       "448            NaN             65% off  \n",
       "\n",
       "[449 rows x 6 columns]"
      ]
     },
     "execution_count": 153,
     "metadata": {},
     "output_type": "execute_result"
    }
   ],
   "source": [
    "df"
   ]
  },
  {
   "cell_type": "code",
   "execution_count": 155,
   "id": "f95f95e9-ab07-4b48-9305-2c616820f31f",
   "metadata": {},
   "outputs": [
    {
     "name": "stdout",
     "output_type": "stream",
     "text": [
      "<class 'pandas.core.frame.DataFrame'>\n",
      "RangeIndex: 449 entries, 0 to 448\n",
      "Data columns (total 6 columns):\n",
      " #   Column               Non-Null Count  Dtype \n",
      "---  ------               --------------  ----- \n",
      " 0   Brand                415 non-null    object\n",
      " 1   Style                415 non-null    object\n",
      " 2   Collar Type          379 non-null    object\n",
      " 3   Discount Price       449 non-null    object\n",
      " 4   Original Price       415 non-null    object\n",
      " 5   Discount Percentage  449 non-null    object\n",
      "dtypes: object(6)\n",
      "memory usage: 21.2+ KB\n"
     ]
    }
   ],
   "source": [
    "df.info()"
   ]
  },
  {
   "cell_type": "code",
   "execution_count": 160,
   "id": "aa5d57d8-f454-456e-b8cb-d6c5fc777046",
   "metadata": {},
   "outputs": [
    {
     "data": {
      "text/plain": [
       "'Spread Collar Casual'"
      ]
     },
     "execution_count": 160,
     "metadata": {},
     "output_type": "execute_result"
    }
   ],
   "source": [
    "df['Collar Type'].mode()[0]"
   ]
  },
  {
   "cell_type": "code",
   "execution_count": 161,
   "id": "f610837f-da47-4194-98a3-9112ffe626e2",
   "metadata": {},
   "outputs": [],
   "source": [
    "df['Collar Type'].fillna(df['Collar Type'].mode()[0],inplace=True)"
   ]
  },
  {
   "cell_type": "code",
   "execution_count": 163,
   "id": "f5554579-c3c3-4f80-a74b-0792d1a6039e",
   "metadata": {},
   "outputs": [
    {
     "name": "stdout",
     "output_type": "stream",
     "text": [
      "<class 'pandas.core.frame.DataFrame'>\n",
      "RangeIndex: 449 entries, 0 to 448\n",
      "Data columns (total 6 columns):\n",
      " #   Column               Non-Null Count  Dtype \n",
      "---  ------               --------------  ----- \n",
      " 0   Brand                415 non-null    object\n",
      " 1   Style                415 non-null    object\n",
      " 2   Collar Type          449 non-null    object\n",
      " 3   Discount Price       449 non-null    object\n",
      " 4   Original Price       415 non-null    object\n",
      " 5   Discount Percentage  449 non-null    object\n",
      "dtypes: object(6)\n",
      "memory usage: 21.2+ KB\n"
     ]
    }
   ],
   "source": [
    "df.info()"
   ]
  },
  {
   "cell_type": "code",
   "execution_count": 166,
   "id": "8645555a-0f55-4a98-9074-c1b6f8efb525",
   "metadata": {},
   "outputs": [
    {
     "data": {
      "text/plain": [
       "'Regular Fit'"
      ]
     },
     "execution_count": 166,
     "metadata": {},
     "output_type": "execute_result"
    }
   ],
   "source": [
    "df['Style'].mode()[0]"
   ]
  },
  {
   "cell_type": "code",
   "execution_count": 168,
   "id": "bee8dd6b-041e-4fd0-bf05-8c820f756835",
   "metadata": {},
   "outputs": [],
   "source": [
    "df['Style'].fillna(df['Style'].mode()[0],inplace=True)"
   ]
  },
  {
   "cell_type": "code",
   "execution_count": 169,
   "id": "22ee70a3-e408-48f6-a00f-8ff09b3b6617",
   "metadata": {},
   "outputs": [
    {
     "name": "stdout",
     "output_type": "stream",
     "text": [
      "<class 'pandas.core.frame.DataFrame'>\n",
      "RangeIndex: 449 entries, 0 to 448\n",
      "Data columns (total 6 columns):\n",
      " #   Column               Non-Null Count  Dtype \n",
      "---  ------               --------------  ----- \n",
      " 0   Brand                415 non-null    object\n",
      " 1   Style                449 non-null    object\n",
      " 2   Collar Type          449 non-null    object\n",
      " 3   Discount Price       449 non-null    object\n",
      " 4   Original Price       415 non-null    object\n",
      " 5   Discount Percentage  449 non-null    object\n",
      "dtypes: object(6)\n",
      "memory usage: 21.2+ KB\n"
     ]
    }
   ],
   "source": [
    "df.info()"
   ]
  },
  {
   "cell_type": "code",
   "execution_count": 172,
   "id": "3f4f061c-cdcf-490e-8b91-a671b7033edd",
   "metadata": {},
   "outputs": [],
   "source": [
    "df['Original Price'] = df['Original Price'].str.replace('₹','').str.replace(',','')\n"
   ]
  },
  {
   "cell_type": "code",
   "execution_count": 177,
   "id": "3ba19cab-af2c-4c74-861e-1e8397ffad60",
   "metadata": {},
   "outputs": [
    {
     "data": {
      "text/plain": [
       "0    999\n",
       "Name: Original Price, dtype: object"
      ]
     },
     "execution_count": 177,
     "metadata": {},
     "output_type": "execute_result"
    }
   ],
   "source": [
    "df['Original Price'].mode()"
   ]
  },
  {
   "cell_type": "code",
   "execution_count": 179,
   "id": "551d5c9e-a3e8-4afe-b645-6d9b023af7eb",
   "metadata": {},
   "outputs": [],
   "source": [
    "df['Original Price'].fillna(df['Original Price'].mode()[0],inplace=True)"
   ]
  },
  {
   "cell_type": "code",
   "execution_count": 188,
   "id": "49f46362-5367-4843-9ebe-0bf1872fbe28",
   "metadata": {},
   "outputs": [
    {
     "name": "stdout",
     "output_type": "stream",
     "text": [
      "<class 'pandas.core.frame.DataFrame'>\n",
      "RangeIndex: 449 entries, 0 to 448\n",
      "Data columns (total 6 columns):\n",
      " #   Column               Non-Null Count  Dtype \n",
      "---  ------               --------------  ----- \n",
      " 0   Brand                415 non-null    object\n",
      " 1   Style                449 non-null    object\n",
      " 2   Collar Type          449 non-null    object\n",
      " 3   Discount Price       449 non-null    object\n",
      " 4   Original Price       449 non-null    int64 \n",
      " 5   Discount Percentage  449 non-null    object\n",
      "dtypes: int64(1), object(5)\n",
      "memory usage: 21.2+ KB\n"
     ]
    }
   ],
   "source": [
    "df.info()"
   ]
  },
  {
   "cell_type": "code",
   "execution_count": 186,
   "id": "1aff9831-0c18-4c45-8c40-5fe8ea0192bd",
   "metadata": {},
   "outputs": [],
   "source": [
    "df['Original Price']=df['Original Price'].astype(int)"
   ]
  },
  {
   "cell_type": "code",
   "execution_count": 187,
   "id": "f2e05f44-ea59-49e2-a30c-1b8f1885d023",
   "metadata": {},
   "outputs": [
    {
     "data": {
      "text/plain": [
       "0      1299\n",
       "1      4299\n",
       "2       999\n",
       "3       999\n",
       "4      1999\n",
       "       ... \n",
       "444     999\n",
       "445     999\n",
       "446     999\n",
       "447     999\n",
       "448     999\n",
       "Name: Original Price, Length: 449, dtype: int64"
      ]
     },
     "execution_count": 187,
     "metadata": {},
     "output_type": "execute_result"
    }
   ],
   "source": [
    "df['Original Price']"
   ]
  },
  {
   "cell_type": "code",
   "execution_count": 190,
   "id": "c05bc4c5-d25c-4d19-8215-04712e494bb7",
   "metadata": {},
   "outputs": [],
   "source": [
    "df['Discount Price'] = df['Discount Price'].str.replace('₹','').str.replace(',','')\n"
   ]
  },
  {
   "cell_type": "code",
   "execution_count": 191,
   "id": "8b68f3ee-f843-4319-932f-0b2e13aa5f93",
   "metadata": {},
   "outputs": [],
   "source": [
    "df['Discount Price'] = df['Discount Price'].astype(int)"
   ]
  },
  {
   "cell_type": "code",
   "execution_count": 197,
   "id": "cb4e7f2a-fa08-4b7b-b028-5da3509b17fc",
   "metadata": {},
   "outputs": [
    {
     "data": {
      "text/plain": [
       "'VeBNoR'"
      ]
     },
     "execution_count": 197,
     "metadata": {},
     "output_type": "execute_result"
    }
   ],
   "source": [
    "df['Brand'].mode()[0]"
   ]
  },
  {
   "cell_type": "code",
   "execution_count": 200,
   "id": "83b7fae8-c812-4e62-8dfe-4e632defb2b1",
   "metadata": {},
   "outputs": [],
   "source": [
    "df['Brand'].fillna(df['Brand'].mode()[0],inplace=True)"
   ]
  },
  {
   "cell_type": "code",
   "execution_count": 201,
   "id": "6d0e56f2-122d-4236-ae6d-09dc989c0868",
   "metadata": {},
   "outputs": [
    {
     "name": "stdout",
     "output_type": "stream",
     "text": [
      "<class 'pandas.core.frame.DataFrame'>\n",
      "RangeIndex: 449 entries, 0 to 448\n",
      "Data columns (total 6 columns):\n",
      " #   Column               Non-Null Count  Dtype \n",
      "---  ------               --------------  ----- \n",
      " 0   Brand                449 non-null    object\n",
      " 1   Style                449 non-null    object\n",
      " 2   Collar Type          449 non-null    object\n",
      " 3   Discount Price       449 non-null    int64 \n",
      " 4   Original Price       449 non-null    int64 \n",
      " 5   Discount Percentage  449 non-null    object\n",
      "dtypes: int64(2), object(4)\n",
      "memory usage: 21.2+ KB\n"
     ]
    }
   ],
   "source": [
    "df.info()"
   ]
  },
  {
   "cell_type": "code",
   "execution_count": 202,
   "id": "e0e8251e-399e-46b7-90c2-1384de2e7f7c",
   "metadata": {},
   "outputs": [],
   "source": [
    "def find_outliers_iqr(data):\n",
    "    Q1 = data.quantile(0.25)\n",
    "    Q3 = data.quantile(0.75)\n",
    "    IQR = Q3 - Q1\n",
    "    lower = Q1 - 1.5 * IQR\n",
    "    upper = Q3 + 1.5 * IQR\n",
    "    outliers = data[(data < lower) | (data > upper)]\n",
    "    return outliers\n"
   ]
  },
  {
   "cell_type": "code",
   "execution_count": 203,
   "id": "c2adabca-05c7-47fd-bd44-6a6b4141ce81",
   "metadata": {},
   "outputs": [
    {
     "name": "stdout",
     "output_type": "stream",
     "text": [
      "Discount Price Outliers:\n",
      " 17      859\n",
      "24      873\n",
      "50      859\n",
      "57     1500\n",
      "63      873\n",
      "80      881\n",
      "82      919\n",
      "88      873\n",
      "107     919\n",
      "109     859\n",
      "114     919\n",
      "116     959\n",
      "117    1749\n",
      "119     959\n",
      "120    1749\n",
      "131     881\n",
      "138     873\n",
      "157     881\n",
      "160     919\n",
      "166     873\n",
      "169     874\n",
      "182     919\n",
      "186     873\n",
      "195     881\n",
      "197     919\n",
      "216     919\n",
      "235    1500\n",
      "236     919\n",
      "237     874\n",
      "242    1749\n",
      "244     919\n",
      "260     873\n",
      "272     859\n",
      "276     919\n",
      "286     919\n",
      "297     919\n",
      "324     859\n",
      "328    1500\n",
      "337     859\n",
      "341    1500\n",
      "355     919\n",
      "369    1500\n",
      "371     919\n",
      "394     959\n",
      "395    1749\n",
      "397     959\n",
      "406     919\n",
      "409     959\n",
      "410    1749\n",
      "414     873\n",
      "433     859\n",
      "437    1500\n",
      "440     919\n",
      "444     881\n",
      "447     873\n",
      "448     874\n",
      "Name: Discount Price, dtype: int64\n",
      "Original Price Outliers:\n",
      " 1      4299\n",
      "28     4299\n",
      "61     4299\n",
      "83     4299\n",
      "110    4299\n",
      "129    4299\n",
      "152    4299\n",
      "175    4299\n",
      "206    4299\n",
      "294    4299\n",
      "321    4299\n",
      "331    4299\n",
      "340    4299\n",
      "400    4299\n",
      "Name: Original Price, dtype: int64\n"
     ]
    }
   ],
   "source": [
    "discount_outliers = find_outliers_iqr(df['Discount Price'])\n",
    "original_outliers = find_outliers_iqr(df['Original Price'])\n",
    "\n",
    "print(\"Discount Price Outliers:\\n\", discount_outliers)\n",
    "print(\"Original Price Outliers:\\n\", original_outliers)\n"
   ]
  },
  {
   "cell_type": "code",
   "execution_count": 206,
   "id": "c777e13a-4c4e-47f5-b8d4-f449cf43f49f",
   "metadata": {},
   "outputs": [
    {
     "name": "stdout",
     "output_type": "stream",
     "text": [
      "<class 'pandas.core.frame.DataFrame'>\n",
      "RangeIndex: 379 entries, 0 to 378\n",
      "Data columns (total 6 columns):\n",
      " #   Column               Non-Null Count  Dtype \n",
      "---  ------               --------------  ----- \n",
      " 0   Brand                379 non-null    object\n",
      " 1   Style                379 non-null    object\n",
      " 2   Collar Type          379 non-null    object\n",
      " 3   Discount Price       379 non-null    int64 \n",
      " 4   Original Price       379 non-null    int64 \n",
      " 5   Discount Percentage  379 non-null    object\n",
      "dtypes: int64(2), object(4)\n",
      "memory usage: 17.9+ KB\n",
      "None\n"
     ]
    }
   ],
   "source": [
    "\n",
    "df = df[~df['Discount Price'].isin(discount_outliers)]\n",
    "df = df_clean[~df_clean['Original Price'].isin(original_outliers)]\n",
    "\n",
    "df = df_clean.reset_index(drop=True)\n",
    "print(df.info())\n"
   ]
  },
  {
   "cell_type": "code",
   "execution_count": 207,
   "id": "471cb720-0947-4534-b099-af122e3a2010",
   "metadata": {},
   "outputs": [
    {
     "data": {
      "text/html": [
       "<div>\n",
       "<style scoped>\n",
       "    .dataframe tbody tr th:only-of-type {\n",
       "        vertical-align: middle;\n",
       "    }\n",
       "\n",
       "    .dataframe tbody tr th {\n",
       "        vertical-align: top;\n",
       "    }\n",
       "\n",
       "    .dataframe thead th {\n",
       "        text-align: right;\n",
       "    }\n",
       "</style>\n",
       "<table border=\"1\" class=\"dataframe\">\n",
       "  <thead>\n",
       "    <tr style=\"text-align: right;\">\n",
       "      <th></th>\n",
       "      <th>Brand</th>\n",
       "      <th>Style</th>\n",
       "      <th>Collar Type</th>\n",
       "      <th>Discount Price</th>\n",
       "      <th>Original Price</th>\n",
       "      <th>Discount Percentage</th>\n",
       "    </tr>\n",
       "  </thead>\n",
       "  <tbody>\n",
       "    <tr>\n",
       "      <th>0</th>\n",
       "      <td>VTEXX</td>\n",
       "      <td>Regular Fit</td>\n",
       "      <td>Spread Collar Formal</td>\n",
       "      <td>268</td>\n",
       "      <td>1299</td>\n",
       "      <td>79% off</td>\n",
       "    </tr>\n",
       "    <tr>\n",
       "      <th>1</th>\n",
       "      <td>VeBNoR</td>\n",
       "      <td>Regular Fit</td>\n",
       "      <td>Spread Collar Casual</td>\n",
       "      <td>253</td>\n",
       "      <td>999</td>\n",
       "      <td>74% off</td>\n",
       "    </tr>\n",
       "    <tr>\n",
       "      <th>2</th>\n",
       "      <td>VeBNoR</td>\n",
       "      <td>Regular Fit</td>\n",
       "      <td>Button Down Collar</td>\n",
       "      <td>265</td>\n",
       "      <td>999</td>\n",
       "      <td>73% off</td>\n",
       "    </tr>\n",
       "    <tr>\n",
       "      <th>3</th>\n",
       "      <td>Surhi</td>\n",
       "      <td>Regular Fit</td>\n",
       "      <td>Spread Collar Casual</td>\n",
       "      <td>225</td>\n",
       "      <td>1999</td>\n",
       "      <td>88% off</td>\n",
       "    </tr>\n",
       "    <tr>\n",
       "      <th>4</th>\n",
       "      <td>VeBNoR</td>\n",
       "      <td>Regular Fit</td>\n",
       "      <td>Button Down Collar</td>\n",
       "      <td>258</td>\n",
       "      <td>999</td>\n",
       "      <td>74% off</td>\n",
       "    </tr>\n",
       "    <tr>\n",
       "      <th>...</th>\n",
       "      <td>...</td>\n",
       "      <td>...</td>\n",
       "      <td>...</td>\n",
       "      <td>...</td>\n",
       "      <td>...</td>\n",
       "      <td>...</td>\n",
       "    </tr>\n",
       "    <tr>\n",
       "      <th>374</th>\n",
       "      <td>VeBNoR</td>\n",
       "      <td>Regular Fit</td>\n",
       "      <td>Spread Collar Casual</td>\n",
       "      <td>240</td>\n",
       "      <td>999</td>\n",
       "      <td>75% off</td>\n",
       "    </tr>\n",
       "    <tr>\n",
       "      <th>375</th>\n",
       "      <td>VeBNoR</td>\n",
       "      <td>Regular Fit</td>\n",
       "      <td>Spread Collar Casual</td>\n",
       "      <td>248</td>\n",
       "      <td>999</td>\n",
       "      <td>75% off</td>\n",
       "    </tr>\n",
       "    <tr>\n",
       "      <th>376</th>\n",
       "      <td>VeBNoR</td>\n",
       "      <td>Regular Fit</td>\n",
       "      <td>Spread Collar Casual</td>\n",
       "      <td>268</td>\n",
       "      <td>999</td>\n",
       "      <td>86% off</td>\n",
       "    </tr>\n",
       "    <tr>\n",
       "      <th>377</th>\n",
       "      <td>VeBNoR</td>\n",
       "      <td>Regular Fit</td>\n",
       "      <td>Spread Collar Casual</td>\n",
       "      <td>429</td>\n",
       "      <td>999</td>\n",
       "      <td>78% off</td>\n",
       "    </tr>\n",
       "    <tr>\n",
       "      <th>378</th>\n",
       "      <td>VeBNoR</td>\n",
       "      <td>Regular Fit</td>\n",
       "      <td>Spread Collar Casual</td>\n",
       "      <td>224</td>\n",
       "      <td>999</td>\n",
       "      <td>82% off</td>\n",
       "    </tr>\n",
       "  </tbody>\n",
       "</table>\n",
       "<p>379 rows × 6 columns</p>\n",
       "</div>"
      ],
      "text/plain": [
       "      Brand        Style           Collar Type  Discount Price  \\\n",
       "0     VTEXX  Regular Fit  Spread Collar Formal             268   \n",
       "1    VeBNoR  Regular Fit  Spread Collar Casual             253   \n",
       "2    VeBNoR  Regular Fit    Button Down Collar             265   \n",
       "3     Surhi  Regular Fit  Spread Collar Casual             225   \n",
       "4    VeBNoR  Regular Fit    Button Down Collar             258   \n",
       "..      ...          ...                   ...             ...   \n",
       "374  VeBNoR  Regular Fit  Spread Collar Casual             240   \n",
       "375  VeBNoR  Regular Fit  Spread Collar Casual             248   \n",
       "376  VeBNoR  Regular Fit  Spread Collar Casual             268   \n",
       "377  VeBNoR  Regular Fit  Spread Collar Casual             429   \n",
       "378  VeBNoR  Regular Fit  Spread Collar Casual             224   \n",
       "\n",
       "     Original Price Discount Percentage  \n",
       "0              1299             79% off  \n",
       "1               999             74% off  \n",
       "2               999             73% off  \n",
       "3              1999             88% off  \n",
       "4               999             74% off  \n",
       "..              ...                 ...  \n",
       "374             999             75% off  \n",
       "375             999             75% off  \n",
       "376             999             86% off  \n",
       "377             999             78% off  \n",
       "378             999             82% off  \n",
       "\n",
       "[379 rows x 6 columns]"
      ]
     },
     "execution_count": 207,
     "metadata": {},
     "output_type": "execute_result"
    }
   ],
   "source": [
    "df"
   ]
  },
  {
   "cell_type": "code",
   "execution_count": 208,
   "id": "8884ed48-65ed-4831-a9b1-0d46d93e5e0a",
   "metadata": {},
   "outputs": [],
   "source": [
    "# ) For categorical columns (Brand, Style, Collar Type, Discount Percentage):"
   ]
  },
  {
   "cell_type": "code",
   "execution_count": 216,
   "id": "ae8c81fa-f117-4409-a703-1734c3ed88a0",
   "metadata": {},
   "outputs": [
    {
     "data": {
      "image/png": "[encoded data removed]",
      "text/plain": [
       "<Figure size 640x480 with 1 Axes>"
      ]
     },
     "metadata": {},
     "output_type": "display_data"
    }
   ],
   "source": [
    "sns.countplot(data=df, x='Brand')\n",
    "plt.xticks(rotation=90)\n",
    "plt.show()"
   ]
  },
  {
   "cell_type": "code",
   "execution_count": 217,
   "id": "9c21517c-868b-4ac7-98d9-ce21fa4a668a",
   "metadata": {},
   "outputs": [],
   "source": [
    "#For numerical columns (Discount Price, Original Price):"
   ]
  },
  {
   "cell_type": "code",
   "execution_count": 219,
   "id": "2f6d3176-6d59-4b4c-9c2d-7fa825d723a1",
   "metadata": {},
   "outputs": [
    {
     "data": {
      "image/png": "[encoded data removed]",
      "text/plain": [
       "<Figure size 1000x500 with 2 Axes>"
      ]
     },
     "metadata": {},
     "output_type": "display_data"
    }
   ],
   "source": [
    "df[['Discount Price','Original Price']].hist(bins=20, figsize=(10,5))\n",
    "plt.show()\n"
   ]
  },
  {
   "cell_type": "code",
   "execution_count": 220,
   "id": "1bb1fdbe-d75e-4bef-800c-3f7b860d3d1f",
   "metadata": {},
   "outputs": [
    {
     "data": {
      "image/png": "[encoded data removed]",
      "text/plain": [
       "<Figure size 640x480 with 1 Axes>"
      ]
     },
     "metadata": {},
     "output_type": "display_data"
    }
   ],
   "source": [
    "sns.boxplot(data=df[['Discount Price','Original Price']])\n",
    "plt.show()"
   ]
  },
  {
   "cell_type": "code",
   "execution_count": 221,
   "id": "33ce896f-1bab-4a79-bec6-06dd880802dd",
   "metadata": {},
   "outputs": [],
   "source": [
    "# Bivariate Analysis"
   ]
  },
  {
   "cell_type": "code",
   "execution_count": 222,
   "id": "8ff5ff3b-ad79-453e-b8b2-4c62e4f6586d",
   "metadata": {},
   "outputs": [],
   "source": [
    "# Numerical vs Numerical"
   ]
  },
  {
   "cell_type": "code",
   "execution_count": 223,
   "id": "0792e2f9-8001-4b12-af4a-26cc18a26b1c",
   "metadata": {},
   "outputs": [
    {
     "data": {
      "image/png": "[encoded data removed]",
      "text/plain": [
       "<Figure size 640x480 with 1 Axes>"
      ]
     },
     "metadata": {},
     "output_type": "display_data"
    },
    {
     "name": "stdout",
     "output_type": "stream",
     "text": [
      "                Original Price  Discount Price\n",
      "Original Price        1.000000        0.035871\n",
      "Discount Price        0.035871        1.000000\n"
     ]
    }
   ],
   "source": [
    "sns.scatterplot(data=df, x='Original Price', y='Discount Price')\n",
    "plt.show()\n",
    "\n",
    "# Correlation\n",
    "print(df[['Original Price','Discount Price']].corr())"
   ]
  },
  {
   "cell_type": "code",
   "execution_count": 224,
   "id": "848fd7f4-d102-4676-8b82-acbde7bdffbe",
   "metadata": {},
   "outputs": [],
   "source": [
    "# Numerical vs Categorical"
   ]
  },
  {
   "cell_type": "code",
   "execution_count": 226,
   "id": "fc37fd4c-0701-4d7a-b7ee-364dc0a3bd6b",
   "metadata": {},
   "outputs": [
    {
     "data": {
      "image/png": "[encoded data removed]",
      "text/plain": [
       "<Figure size 640x480 with 1 Axes>"
      ]
     },
     "metadata": {},
     "output_type": "display_data"
    }
   ],
   "source": [
    "sns.boxplot(data=df, x='Brand', y='Discount Price')\n",
    "plt.xticks(rotation=90)\n",
    "plt.show()\n"
   ]
  },
  {
   "cell_type": "code",
   "execution_count": 227,
   "id": "b560c58a-379d-4eee-a22e-57c2fb94eeca",
   "metadata": {},
   "outputs": [],
   "source": [
    "# Categorical vs Categorical"
   ]
  },
  {
   "cell_type": "code",
   "execution_count": 228,
   "id": "35b7ad13-a3f2-4562-9431-c49cb6536d96",
   "metadata": {},
   "outputs": [
    {
     "data": {
      "image/png": "[encoded data removed]",
      "text/plain": [
       "<Figure size 640x480 with 1 Axes>"
      ]
     },
     "metadata": {},
     "output_type": "display_data"
    }
   ],
   "source": [
    "sns.countplot(data=df, x='Brand', hue='Collar Type')\n",
    "plt.xticks(rotation=90)\n",
    "plt.show()\n"
   ]
  },
  {
   "cell_type": "code",
   "execution_count": 229,
   "id": "a92e378c-edb9-4e1b-aacd-0c846ef93b3b",
   "metadata": {},
   "outputs": [],
   "source": [
    "# Multivariate Analysis"
   ]
  },
  {
   "cell_type": "code",
   "execution_count": 231,
   "id": "6cbace0b-4bf3-40d1-acec-2f32b2dd1223",
   "metadata": {},
   "outputs": [
    {
     "data": {
      "image/png": "[encoded data removed]",
      "text/plain": [
       "<Figure size 672.75x500 with 6 Axes>"
      ]
     },
     "metadata": {},
     "output_type": "display_data"
    }
   ],
   "source": [
    "sns.pairplot(df, vars=['Discount Price','Original Price'], hue='Brand')\n",
    "plt.show()\n",
    "\n"
   ]
  },
  {
   "cell_type": "code",
   "execution_count": 232,
   "id": "e2c3daf3-bc33-46c2-923e-5e5d5201dbd4",
   "metadata": {},
   "outputs": [
    {
     "data": {
      "image/png": "[encoded data removed]",
      "text/plain": [
       "<Figure size 640x480 with 2 Axes>"
      ]
     },
     "metadata": {},
     "output_type": "display_data"
    }
   ],
   "source": [
    "sns.heatmap(df[['Discount Price','Original Price']].corr(), annot=True, cmap='coolwarm')\n",
    "plt.show()\n"
   ]
  },
  {
   "cell_type": "code",
   "execution_count": null,
   "id": "ab46baf1-9a82-4888-aa75-21bc42c7f8ba",
   "metadata": {},
   "outputs": [],
   "source": []
  }
 ],
 "metadata": {
  "kernelspec": {
   "display_name": "Python 3 (ipykernel)",
   "language": "python",
   "name": "python3"
  },
  "language_info": {
   "codemirror_mode": {
    "name": "ipython",
    "version": 3
   },
   "file_extension": ".py",
   "mimetype": "text/x-python",
   "name": "python",
   "nbconvert_exporter": "python",
   "pygments_lexer": "ipython3",
   "version": "3.13.5"
  }
 },
 "nbformat": 4,
 "nbformat_minor": 5
}
